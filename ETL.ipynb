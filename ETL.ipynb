{
 "cells": [
  {
   "cell_type": "markdown",
   "metadata": {},
   "source": [
    "# Extract Transform Load\n",
    "This file downloads the D1NAMO dataset, extracts it and processes the dataset to extract the data we need and saves it a csv file.\n",
    "The dataset is ~10GB download and is ~65 GB uncompressed. Please choose a disk with over 100 GB space to allow for other files if processing on the cloud"
   ]
  },
  {
   "cell_type": "markdown",
   "metadata": {},
   "source": [
    "### Download the dataset\n",
    "Uses Linux wget command to download a remote resource"
   ]
  },
  {
   "cell_type": "code",
   "execution_count": 14,
   "metadata": {},
   "outputs": [],
   "source": [
    "#!wget https://zenodo.org/record/1421616/files/D1NAMO.tgz"
   ]
  },
  {
   "cell_type": "markdown",
   "metadata": {},
   "source": [
    "### Extract the dataset"
   ]
  },
  {
   "cell_type": "code",
   "execution_count": 15,
   "metadata": {},
   "outputs": [],
   "source": [
    "# Extract the dataset - WARNING takes a long time\n",
    "# import tarfile\n",
    "# tar = tarfile.open('D1NAMO.tgz', \"r:gz\")\n",
    "# tar.extractall()\n",
    "# tar.close()"
   ]
  },
  {
   "cell_type": "code",
   "execution_count": 16,
   "metadata": {},
   "outputs": [],
   "source": [
    "#view size of the database \n",
    "# !du -sh D1NAMO"
   ]
  },
  {
   "cell_type": "code",
   "execution_count": 17,
   "metadata": {},
   "outputs": [
    {
     "name": "stdout",
     "output_type": "stream",
     "text": [
      "Number of ECG files: 131\n"
     ]
    }
   ],
   "source": [
    "# Get ECG files from D1NAMO dataset\n",
    "import os\n",
    "ECG_files = []\n",
    "for subdir, dirs, files in os.walk('D1NAMO'):\n",
    "    for file in files:\n",
    "        #print os.path.join(subdir, file)\n",
    "        filepath = subdir + os.sep + file\n",
    "\n",
    "        if filepath.endswith(\"ECG.csv\"):\n",
    "            ECG_files.append(filepath)\n",
    "            \n",
    "print('Number of ECG files:' , len(ECG_files))"
   ]
  },
  {
   "cell_type": "markdown",
   "metadata": {},
   "source": [
    "### Processing ECG files\n",
    "Runs a script to loop through the database directory and subdirectories and finds files ending with `ECG.csv`. Then reads a minute of ECG data and processes it and creates a pandas dataframe. "
   ]
  },
  {
   "cell_type": "code",
   "execution_count": 1,
   "metadata": {},
   "outputs": [],
   "source": [
    "import numpy as np\n",
    "import pandas as pd\n",
    "import matplotlib.pyplot as plt\n",
    "from scipy.signal import find_peaks, argrelmin\n",
    "from scipy.interpolate import interp1d\n",
    "#import the function to conver ecg signals to the parameters we are inputing to the model\n",
    "# from ipynb.fs.full.processing_function import signal_to_params"
   ]
  },
  {
   "cell_type": "code",
   "execution_count": 19,
   "metadata": {},
   "outputs": [],
   "source": [
    "def signal_to_params(filename,sampling_freq=250,n=15, duration=1):\n",
    "    filename = filename\n",
    "    bvp_signal = pd.read_csv(filename);\n",
    "    #remove first two rows\n",
    "    bvp_array = bvp_signal.iloc[2:];\n",
    "    #get row data of a minute starting from 3rd minute allow time to stabilize\n",
    "    minute_length = int(sampling_freq * 60)\n",
    "    bvp_numpy = bvp_array[(n)*minute_length:(n+duration)*minute_length].to_numpy()\n",
    "    #convert to 1d array\n",
    "    bvp_numpy_one_d_array = bvp_numpy[:,1]\n",
    "    baseline = np.quantile(bvp_numpy_one_d_array, 0.75)\n",
    "    peaks, _ = find_peaks(bvp_numpy_one_d_array, height = baseline, distance = 100)\n",
    "\n",
    "\n",
    "    #distance of peaks\n",
    "    peak_distance = np.diff(peaks)\n",
    "\n",
    "    #Mean R-R interval in seconds\n",
    "    average_peak_distance = sum(peak_distance)/len(peak_distance)/sampling_freq # Mean RR\n",
    "    peak_distance_std = np.std(peak_distance); #SDNN\n",
    "    peak_distance_rms =  np.sqrt(np.mean(peak_distance**2)) #RMSSD\n",
    "\n",
    "    #creat array of hr and hrv\n",
    "    heart_rate_array = [];\n",
    "    heart_rate_variability_array = [];\n",
    "    nn_50 = 0\n",
    "    # #\n",
    "    # print(\"peak\")\n",
    "    # print(len(peak_distance))\n",
    "    # print(peak_distance)\n",
    "    # #\n",
    "\n",
    "    for x in range(1, len(peak_distance)):\n",
    "        #heart rate\n",
    "        heart_rate = 60 * sampling_freq / peak_distance[x-1];\n",
    "        heart_rate_array.append(heart_rate);\n",
    "\n",
    "        #heart rate variability N-N intervals\n",
    "        heart_rate_variability = abs((peak_distance[x] - peak_distance[x-1]) * 1000 / sampling_freq);\n",
    "        heart_rate_variability_array.append(int(heart_rate_variability));\n",
    "\n",
    "        #no. of hrv intervals differ more than 50ms\n",
    "        if (heart_rate_variability > 50):\n",
    "            nn_50 += 1;\n",
    "\n",
    "    #mean and std - heart rate - BPM\n",
    "    heart_rate_mean = np.mean(heart_rate_array);\n",
    "    heart_rate_std = np.std(heart_rate_array);\n",
    "\n",
    "\n",
    "\n",
    "    #mean and std - heart rate variability per minute\n",
    "    heart_rate_variability_mean = np.mean(heart_rate_variability_array)\n",
    "    heart_rate_variability_std = np.std(heart_rate_variability_array)\n",
    "\n",
    "\n",
    "    #no. and percentage of hrv intervals differ more than 50ms\n",
    "    pNN_50 = nn_50 / len(peak_distance);\n",
    "\n",
    "    #Triangular interpolation index\n",
    "    peaks_min = argrelmin(bvp_numpy_one_d_array)\n",
    "\n",
    "    min_row = [];\n",
    "    dif_array = [];\n",
    "    dif = 36;\n",
    "\n",
    "    for x in range(1, len(peaks_min[0])):\n",
    "        if (bvp_numpy_one_d_array[peaks_min[0][x-1]] > 0):\n",
    "            dif = abs(peaks_min[0][x-1] - peaks_min[0][x-2]);\n",
    "            if (dif > 50): #control threshold for TINN\n",
    "                min_row.append(peaks_min[0][x-1]);\n",
    "                dif = dif * 1000 / sampling_freq;\n",
    "                dif_array.append(dif);\n",
    "\n",
    "\n",
    "    TINN = np.mean(dif_array);\n",
    "\n",
    "    sum_hrv_square= 0;\n",
    "    #rmsHRV\n",
    "    for x in range(1, len(heart_rate_variability_array)):\n",
    "        sum_hrv_square = (heart_rate_variability_array[x-1] ** 2) + sum_hrv_square;\n",
    "\n",
    "    average_hrv_square = sum_hrv_square / len(heart_rate_variability_array);\n",
    "    rmsHRV = np.sqrt(average_hrv_square);\n",
    "\n",
    "    intergral_rr = 0\n",
    "    [freq_RR , interval] = np.histogram(peak_distance, bins=20) #heruristic to set\n",
    "\n",
    "    for x in range (1,len(freq_RR)):\n",
    "        intergral_rr = intergral_rr + freq_RR[x-1]*(interval[x]-interval[x-1])\n",
    "    triangular_index = intergral_rr/max(freq_RR)\n",
    "    \n",
    "    parameters = {'nn_50':nn_50,'pNN_50': pNN_50, 'meanHR': heart_rate_mean, 'SDHR': heart_rate_std, 'meanRR':average_peak_distance,'SDNN': peak_distance_std,'RMSSD': peak_distance_rms, 'TINN':TINN, 'HRVTriIndex':triangular_index}\n",
    "    return parameters"
   ]
  },
  {
   "cell_type": "code",
   "execution_count": 20,
   "metadata": {},
   "outputs": [],
   "source": [
    "df_cols = ['filename','SDNN','RMSSD','nn_50','pNN_50', 'meanHR', 'SDHR', 'meanRR','TINN','HRVTriIndex']\n",
    "df = pd.DataFrame(columns = df_cols)"
   ]
  },
  {
   "cell_type": "code",
   "execution_count": 21,
   "metadata": {},
   "outputs": [
    {
     "data": {
      "text/html": [
       "<div>\n",
       "<style scoped>\n",
       "    .dataframe tbody tr th:only-of-type {\n",
       "        vertical-align: middle;\n",
       "    }\n",
       "\n",
       "    .dataframe tbody tr th {\n",
       "        vertical-align: top;\n",
       "    }\n",
       "\n",
       "    .dataframe thead th {\n",
       "        text-align: right;\n",
       "    }\n",
       "</style>\n",
       "<table border=\"1\" class=\"dataframe\">\n",
       "  <thead>\n",
       "    <tr style=\"text-align: right;\">\n",
       "      <th></th>\n",
       "      <th>filename</th>\n",
       "      <th>SDNN</th>\n",
       "      <th>RMSSD</th>\n",
       "      <th>nn_50</th>\n",
       "      <th>pNN_50</th>\n",
       "      <th>meanHR</th>\n",
       "      <th>SDHR</th>\n",
       "      <th>meanRR</th>\n",
       "      <th>TINN</th>\n",
       "      <th>HRVTriIndex</th>\n",
       "    </tr>\n",
       "  </thead>\n",
       "  <tbody>\n",
       "    <tr>\n",
       "      <th>0</th>\n",
       "      <td>D1NAMO/diabetes_subset/001/sensor_data/2014_10...</td>\n",
       "      <td>215.209703</td>\n",
       "      <td>322.444277</td>\n",
       "      <td>51</td>\n",
       "      <td>0.836066</td>\n",
       "      <td>86.661102</td>\n",
       "      <td>34.711019</td>\n",
       "      <td>0.960459</td>\n",
       "      <td>1315.211268</td>\n",
       "      <td>129.529412</td>\n",
       "    </tr>\n",
       "    <tr>\n",
       "      <th>1</th>\n",
       "      <td>D1NAMO/diabetes_subset/001/sensor_data/2014_10...</td>\n",
       "      <td>95.970977</td>\n",
       "      <td>215.556122</td>\n",
       "      <td>43</td>\n",
       "      <td>0.558442</td>\n",
       "      <td>89.377405</td>\n",
       "      <td>28.844218</td>\n",
       "      <td>0.772052</td>\n",
       "      <td>999.878788</td>\n",
       "      <td>71.082353</td>\n",
       "    </tr>\n",
       "  </tbody>\n",
       "</table>\n",
       "</div>"
      ],
      "text/plain": [
       "                                            filename        SDNN       RMSSD  \\\n",
       "0  D1NAMO/diabetes_subset/001/sensor_data/2014_10...  215.209703  322.444277   \n",
       "1  D1NAMO/diabetes_subset/001/sensor_data/2014_10...   95.970977  215.556122   \n",
       "\n",
       "  nn_50    pNN_50     meanHR       SDHR    meanRR         TINN  HRVTriIndex  \n",
       "0    51  0.836066  86.661102  34.711019  0.960459  1315.211268   129.529412  \n",
       "1    43  0.558442  89.377405  28.844218  0.772052   999.878788    71.082353  "
      ]
     },
     "execution_count": 21,
     "metadata": {},
     "output_type": "execute_result"
    }
   ],
   "source": [
    "for index, file in enumerate(ECG_files):\n",
    "#     print (file, index)\n",
    "    params = signal_to_params(file, 250, 15)\n",
    "    params['filename']=file\n",
    "    df = df.append([params], ignore_index = True)\n",
    "df"
   ]
  },
  {
   "cell_type": "code",
   "execution_count": 22,
   "metadata": {},
   "outputs": [],
   "source": [
    "df.to_csv('processed_data.csv', index= False)"
   ]
  },
  {
   "cell_type": "markdown",
   "metadata": {},
   "source": [
    "## Model Creation"
   ]
  },
  {
   "cell_type": "code",
   "execution_count": 26,
   "metadata": {},
   "outputs": [
    {
     "data": {
      "text/html": [
       "<div>\n",
       "<style scoped>\n",
       "    .dataframe tbody tr th:only-of-type {\n",
       "        vertical-align: middle;\n",
       "    }\n",
       "\n",
       "    .dataframe tbody tr th {\n",
       "        vertical-align: top;\n",
       "    }\n",
       "\n",
       "    .dataframe thead th {\n",
       "        text-align: right;\n",
       "    }\n",
       "</style>\n",
       "<table border=\"1\" class=\"dataframe\">\n",
       "  <thead>\n",
       "    <tr style=\"text-align: right;\">\n",
       "      <th></th>\n",
       "      <th>filename</th>\n",
       "      <th>SDNN</th>\n",
       "      <th>RMSSD</th>\n",
       "      <th>nn_50</th>\n",
       "      <th>pNN_50</th>\n",
       "      <th>meanHR</th>\n",
       "      <th>SDHR</th>\n",
       "      <th>meanRR</th>\n",
       "      <th>TINN</th>\n",
       "      <th>HRVTriIndex</th>\n",
       "      <th>label</th>\n",
       "    </tr>\n",
       "  </thead>\n",
       "  <tbody>\n",
       "    <tr>\n",
       "      <th>0</th>\n",
       "      <td>D1NAMO/diabetes_subset/001/sensor_data/2014_10...</td>\n",
       "      <td>215.209703</td>\n",
       "      <td>322.444277</td>\n",
       "      <td>51.0</td>\n",
       "      <td>0.836066</td>\n",
       "      <td>86.661102</td>\n",
       "      <td>34.711019</td>\n",
       "      <td>0.960459</td>\n",
       "      <td>1315.211268</td>\n",
       "      <td>129.529412</td>\n",
       "      <td>1</td>\n",
       "    </tr>\n",
       "    <tr>\n",
       "      <th>1</th>\n",
       "      <td>D1NAMO/diabetes_subset/001/sensor_data/2014_10...</td>\n",
       "      <td>95.970977</td>\n",
       "      <td>215.556122</td>\n",
       "      <td>43.0</td>\n",
       "      <td>0.558442</td>\n",
       "      <td>89.377405</td>\n",
       "      <td>28.844218</td>\n",
       "      <td>0.772052</td>\n",
       "      <td>999.878788</td>\n",
       "      <td>71.082353</td>\n",
       "      <td>1</td>\n",
       "    </tr>\n",
       "    <tr>\n",
       "      <th>2</th>\n",
       "      <td>D1NAMO/diabetes_subset/001/sensor_data/2014_10...</td>\n",
       "      <td>39.235031</td>\n",
       "      <td>179.952804</td>\n",
       "      <td>41.0</td>\n",
       "      <td>0.482353</td>\n",
       "      <td>90.749579</td>\n",
       "      <td>24.051391</td>\n",
       "      <td>0.702494</td>\n",
       "      <td>1019.521739</td>\n",
       "      <td>33.200000</td>\n",
       "      <td>1</td>\n",
       "    </tr>\n",
       "    <tr>\n",
       "      <th>3</th>\n",
       "      <td>D1NAMO/diabetes_subset/001/sensor_data/2014_10...</td>\n",
       "      <td>669.571593</td>\n",
       "      <td>781.183077</td>\n",
       "      <td>26.0</td>\n",
       "      <td>0.787879</td>\n",
       "      <td>105.488401</td>\n",
       "      <td>46.878402</td>\n",
       "      <td>1.609576</td>\n",
       "      <td>1098.297030</td>\n",
       "      <td>144.704000</td>\n",
       "      <td>1</td>\n",
       "    </tr>\n",
       "    <tr>\n",
       "      <th>4</th>\n",
       "      <td>D1NAMO/diabetes_subset/009/sensor_data/2014_10...</td>\n",
       "      <td>403.168203</td>\n",
       "      <td>532.586707</td>\n",
       "      <td>30.0</td>\n",
       "      <td>0.750000</td>\n",
       "      <td>85.175555</td>\n",
       "      <td>50.759611</td>\n",
       "      <td>1.392000</td>\n",
       "      <td>1249.022222</td>\n",
       "      <td>187.454348</td>\n",
       "      <td>1</td>\n",
       "    </tr>\n",
       "  </tbody>\n",
       "</table>\n",
       "</div>"
      ],
      "text/plain": [
       "                                            filename        SDNN       RMSSD  \\\n",
       "0  D1NAMO/diabetes_subset/001/sensor_data/2014_10...  215.209703  322.444277   \n",
       "1  D1NAMO/diabetes_subset/001/sensor_data/2014_10...   95.970977  215.556122   \n",
       "2  D1NAMO/diabetes_subset/001/sensor_data/2014_10...   39.235031  179.952804   \n",
       "3  D1NAMO/diabetes_subset/001/sensor_data/2014_10...  669.571593  781.183077   \n",
       "4  D1NAMO/diabetes_subset/009/sensor_data/2014_10...  403.168203  532.586707   \n",
       "\n",
       "   nn_50    pNN_50      meanHR       SDHR    meanRR         TINN  HRVTriIndex  \\\n",
       "0   51.0  0.836066   86.661102  34.711019  0.960459  1315.211268   129.529412   \n",
       "1   43.0  0.558442   89.377405  28.844218  0.772052   999.878788    71.082353   \n",
       "2   41.0  0.482353   90.749579  24.051391  0.702494  1019.521739    33.200000   \n",
       "3   26.0  0.787879  105.488401  46.878402  1.609576  1098.297030   144.704000   \n",
       "4   30.0  0.750000   85.175555  50.759611  1.392000  1249.022222   187.454348   \n",
       "\n",
       "   label  \n",
       "0      1  \n",
       "1      1  \n",
       "2      1  \n",
       "3      1  \n",
       "4      1  "
      ]
     },
     "execution_count": 26,
     "metadata": {},
     "output_type": "execute_result"
    }
   ],
   "source": [
    "import numpy as np\n",
    "import pandas as pd\n",
    "import matplotlib.pyplot as plt\n",
    "\n",
    "dataset = pd.read_csv('processed_data.csv')\n",
    "def labelDataset(row):\n",
    "#     label the dataset 1- diabetic , 0- non-diabetic\n",
    "    if row['filename'][7:15] ==\"diabetes\":\n",
    "        return  1\n",
    "    else:\n",
    "        return 0\n",
    "dataset['label'] = dataset.apply (lambda row: labelDataset(row), axis=1)\n",
    "dataset = dataset.dropna()\n",
    "dataset.head()"
   ]
  },
  {
   "cell_type": "code",
   "execution_count": 27,
   "metadata": {},
   "outputs": [],
   "source": [
    "from scipy import stats\n",
    "z_scores = stats.zscore(dataset.drop('filename', axis=1))\n",
    "abs_z_scores = np.abs(z_scores)\n",
    "filtered_entries = (abs_z_scores < 3.5).all(axis=1)\n",
    "dataset = dataset[filtered_entries]"
   ]
  },
  {
   "cell_type": "code",
   "execution_count": 28,
   "metadata": {},
   "outputs": [
    {
     "data": {
      "text/html": [
       "<div>\n",
       "<style scoped>\n",
       "    .dataframe tbody tr th:only-of-type {\n",
       "        vertical-align: middle;\n",
       "    }\n",
       "\n",
       "    .dataframe tbody tr th {\n",
       "        vertical-align: top;\n",
       "    }\n",
       "\n",
       "    .dataframe thead th {\n",
       "        text-align: right;\n",
       "    }\n",
       "</style>\n",
       "<table border=\"1\" class=\"dataframe\">\n",
       "  <thead>\n",
       "    <tr style=\"text-align: right;\">\n",
       "      <th></th>\n",
       "      <th>filename</th>\n",
       "      <th>SDNN</th>\n",
       "      <th>RMSSD</th>\n",
       "      <th>nn_50</th>\n",
       "      <th>pNN_50</th>\n",
       "      <th>meanHR</th>\n",
       "      <th>SDHR</th>\n",
       "      <th>meanRR</th>\n",
       "      <th>TINN</th>\n",
       "      <th>HRVTriIndex</th>\n",
       "      <th>label</th>\n",
       "    </tr>\n",
       "  </thead>\n",
       "  <tbody>\n",
       "    <tr>\n",
       "      <th>23</th>\n",
       "      <td>D1NAMO/diabetes_subset/002/sensor_data/2014_10...</td>\n",
       "      <td>16.402032</td>\n",
       "      <td>140.001502</td>\n",
       "      <td>12.0</td>\n",
       "      <td>0.112150</td>\n",
       "      <td>108.975068</td>\n",
       "      <td>9.261988</td>\n",
       "      <td>0.556150</td>\n",
       "      <td>1283.266667</td>\n",
       "      <td>10.047414</td>\n",
       "      <td>1</td>\n",
       "    </tr>\n",
       "    <tr>\n",
       "      <th>114</th>\n",
       "      <td>D1NAMO/healthy_subset/003/sensor_data/2014_10_...</td>\n",
       "      <td>133.853248</td>\n",
       "      <td>265.436216</td>\n",
       "      <td>55.0</td>\n",
       "      <td>0.846154</td>\n",
       "      <td>82.191084</td>\n",
       "      <td>33.908568</td>\n",
       "      <td>0.916862</td>\n",
       "      <td>1288.157895</td>\n",
       "      <td>116.970000</td>\n",
       "      <td>0</td>\n",
       "    </tr>\n",
       "    <tr>\n",
       "      <th>124</th>\n",
       "      <td>D1NAMO/healthy_subset/016/sensor_data/2014_10_...</td>\n",
       "      <td>351.045266</td>\n",
       "      <td>509.158557</td>\n",
       "      <td>36.0</td>\n",
       "      <td>0.923077</td>\n",
       "      <td>67.391692</td>\n",
       "      <td>38.149990</td>\n",
       "      <td>1.475179</td>\n",
       "      <td>1362.666667</td>\n",
       "      <td>227.050000</td>\n",
       "      <td>0</td>\n",
       "    </tr>\n",
       "    <tr>\n",
       "      <th>11</th>\n",
       "      <td>D1NAMO/diabetes_subset/007/sensor_data/2014_10...</td>\n",
       "      <td>22.181699</td>\n",
       "      <td>212.333229</td>\n",
       "      <td>15.0</td>\n",
       "      <td>0.214286</td>\n",
       "      <td>72.114855</td>\n",
       "      <td>10.446695</td>\n",
       "      <td>0.844686</td>\n",
       "      <td>1052.294737</td>\n",
       "      <td>28.558333</td>\n",
       "      <td>1</td>\n",
       "    </tr>\n",
       "    <tr>\n",
       "      <th>6</th>\n",
       "      <td>D1NAMO/diabetes_subset/009/sensor_data/2014_10...</td>\n",
       "      <td>670.544096</td>\n",
       "      <td>767.555685</td>\n",
       "      <td>25.0</td>\n",
       "      <td>0.675676</td>\n",
       "      <td>108.779267</td>\n",
       "      <td>46.989341</td>\n",
       "      <td>1.494054</td>\n",
       "      <td>1012.769231</td>\n",
       "      <td>194.721429</td>\n",
       "      <td>1</td>\n",
       "    </tr>\n",
       "  </tbody>\n",
       "</table>\n",
       "</div>"
      ],
      "text/plain": [
       "                                              filename        SDNN  \\\n",
       "23   D1NAMO/diabetes_subset/002/sensor_data/2014_10...   16.402032   \n",
       "114  D1NAMO/healthy_subset/003/sensor_data/2014_10_...  133.853248   \n",
       "124  D1NAMO/healthy_subset/016/sensor_data/2014_10_...  351.045266   \n",
       "11   D1NAMO/diabetes_subset/007/sensor_data/2014_10...   22.181699   \n",
       "6    D1NAMO/diabetes_subset/009/sensor_data/2014_10...  670.544096   \n",
       "\n",
       "          RMSSD  nn_50    pNN_50      meanHR       SDHR    meanRR  \\\n",
       "23   140.001502   12.0  0.112150  108.975068   9.261988  0.556150   \n",
       "114  265.436216   55.0  0.846154   82.191084  33.908568  0.916862   \n",
       "124  509.158557   36.0  0.923077   67.391692  38.149990  1.475179   \n",
       "11   212.333229   15.0  0.214286   72.114855  10.446695  0.844686   \n",
       "6    767.555685   25.0  0.675676  108.779267  46.989341  1.494054   \n",
       "\n",
       "            TINN  HRVTriIndex  label  \n",
       "23   1283.266667    10.047414      1  \n",
       "114  1288.157895   116.970000      0  \n",
       "124  1362.666667   227.050000      0  \n",
       "11   1052.294737    28.558333      1  \n",
       "6    1012.769231   194.721429      1  "
      ]
     },
     "execution_count": 28,
     "metadata": {},
     "output_type": "execute_result"
    }
   ],
   "source": [
    "from sklearn.model_selection import train_test_split\n",
    "train, test = train_test_split(dataset, test_size=0.2)\n",
    "train.head()"
   ]
  },
  {
   "cell_type": "code",
   "execution_count": 5,
   "metadata": {},
   "outputs": [
    {
     "name": "stdout",
     "output_type": "stream",
     "text": [
      "2.2.0\n"
     ]
    }
   ],
   "source": [
    "# TensorFlow and tf.keras\n",
    "import tensorflow as tf\n",
    "from tensorflow import keras\n",
    "\n",
    "# Helper libraries\n",
    "import numpy as np\n",
    "import matplotlib.pyplot as plt\n",
    "\n",
    "print(tf.__version__)"
   ]
  },
  {
   "cell_type": "code",
   "execution_count": 29,
   "metadata": {},
   "outputs": [],
   "source": [
    "model = keras.Sequential([\n",
    "    keras.layers.InputLayer(input_shape=(9)),\n",
    "    keras.layers.Dense(20, activation='relu'),\n",
    "    keras.layers.Dense(1, activation='relu')\n",
    "])"
   ]
  },
  {
   "cell_type": "code",
   "execution_count": 30,
   "metadata": {},
   "outputs": [
    {
     "name": "stdout",
     "output_type": "stream",
     "text": [
      "Model: \"sequential_3\"\n",
      "_________________________________________________________________\n",
      "Layer (type)                 Output Shape              Param #   \n",
      "=================================================================\n",
      "dense_6 (Dense)              (None, 20)                200       \n",
      "_________________________________________________________________\n",
      "dense_7 (Dense)              (None, 1)                 21        \n",
      "=================================================================\n",
      "Total params: 221\n",
      "Trainable params: 221\n",
      "Non-trainable params: 0\n",
      "_________________________________________________________________\n"
     ]
    }
   ],
   "source": [
    "model.compile(optimizer='adam',\n",
    "              loss=tf.keras.losses.BinaryCrossentropy(from_logits=True),\n",
    "              metrics=['accuracy'])\n",
    "model.summary()"
   ]
  },
  {
   "cell_type": "code",
   "execution_count": 31,
   "metadata": {},
   "outputs": [
    {
     "name": "stdout",
     "output_type": "stream",
     "text": [
      "<class 'pandas.core.frame.DataFrame'>\n"
     ]
    }
   ],
   "source": [
    "train_data = train.drop(['label','filename'], axis=1)\n",
    "test_data = test.drop(['label','filename'], axis=1)\n",
    "train_stats = train_data.describe()\n",
    "train_stats = train_stats.transpose()\n",
    "print(type(train_stats))\n",
    "def norm(x):\n",
    "    return (x - train_stats['mean']) / train_stats['std']\n",
    "normed_train_data = norm(train_data)\n",
    "normed_test_data = norm(test_data)"
   ]
  },
  {
   "cell_type": "code",
   "execution_count": 32,
   "metadata": {},
   "outputs": [
    {
     "name": "stdout",
     "output_type": "stream",
     "text": [
      "Epoch 1/20\n",
      "4/4 [==============================] - 0s 1ms/step - loss: 0.8937 - accuracy: 0.4000\n",
      "Epoch 2/20\n",
      "4/4 [==============================] - 0s 3ms/step - loss: 0.8660 - accuracy: 0.4100\n",
      "Epoch 3/20\n",
      "4/4 [==============================] - 0s 2ms/step - loss: 0.8409 - accuracy: 0.4300\n",
      "Epoch 4/20\n",
      "4/4 [==============================] - 0s 2ms/step - loss: 0.8214 - accuracy: 0.4400\n",
      "Epoch 5/20\n",
      "4/4 [==============================] - 0s 1ms/step - loss: 0.7993 - accuracy: 0.4900\n",
      "Epoch 6/20\n",
      "4/4 [==============================] - 0s 2ms/step - loss: 0.7798 - accuracy: 0.5700\n",
      "Epoch 7/20\n",
      "4/4 [==============================] - 0s 2ms/step - loss: 0.7614 - accuracy: 0.6200\n",
      "Epoch 8/20\n",
      "4/4 [==============================] - 0s 2ms/step - loss: 0.7454 - accuracy: 0.6300\n",
      "Epoch 9/20\n",
      "4/4 [==============================] - 0s 2ms/step - loss: 0.7302 - accuracy: 0.6100\n",
      "Epoch 10/20\n",
      "4/4 [==============================] - 0s 2ms/step - loss: 0.7163 - accuracy: 0.6200\n",
      "Epoch 11/20\n",
      "4/4 [==============================] - 0s 1ms/step - loss: 0.7052 - accuracy: 0.6200\n",
      "Epoch 12/20\n",
      "4/4 [==============================] - 0s 2ms/step - loss: 0.7004 - accuracy: 0.6300\n",
      "Epoch 13/20\n",
      "4/4 [==============================] - 0s 1ms/step - loss: 0.6964 - accuracy: 0.6300\n",
      "Epoch 14/20\n",
      "4/4 [==============================] - 0s 2ms/step - loss: 0.6936 - accuracy: 0.6400\n",
      "Epoch 15/20\n",
      "4/4 [==============================] - 0s 2ms/step - loss: 0.6898 - accuracy: 0.6500\n",
      "Epoch 16/20\n",
      "4/4 [==============================] - 0s 2ms/step - loss: 0.6863 - accuracy: 0.6700\n",
      "Epoch 17/20\n",
      "4/4 [==============================] - 0s 2ms/step - loss: 0.6833 - accuracy: 0.6800\n",
      "Epoch 18/20\n",
      "4/4 [==============================] - 0s 2ms/step - loss: 0.6806 - accuracy: 0.6800\n",
      "Epoch 19/20\n",
      "4/4 [==============================] - 0s 2ms/step - loss: 0.6779 - accuracy: 0.6800\n",
      "Epoch 20/20\n",
      "4/4 [==============================] - 0s 2ms/step - loss: 0.6767 - accuracy: 0.6800\n"
     ]
    },
    {
     "data": {
      "text/plain": [
       "<tensorflow.python.keras.callbacks.History at 0x20dec22ef10>"
      ]
     },
     "execution_count": 32,
     "metadata": {},
     "output_type": "execute_result"
    }
   ],
   "source": [
    "model.fit(normed_train_data, train['label'], epochs=20)"
   ]
  },
  {
   "cell_type": "code",
   "execution_count": 33,
   "metadata": {},
   "outputs": [
    {
     "name": "stdout",
     "output_type": "stream",
     "text": [
      "1/1 - 0s - loss: 0.6713 - accuracy: 0.8077\n",
      "\n",
      "Test accuracy: 0.807692289352417\n"
     ]
    }
   ],
   "source": [
    "test_loss, test_acc = model.evaluate(normed_test_data,  test['label'], verbose=2)\n",
    "print('\\nTest accuracy:', test_acc)"
   ]
  },
  {
   "cell_type": "code",
   "execution_count": 35,
   "metadata": {},
   "outputs": [
    {
     "name": "stdout",
     "output_type": "stream",
     "text": [
      "Saved model to disk\n"
     ]
    }
   ],
   "source": [
    "model.save(\"D1NAMO.h5\")\n",
    "print(\"Saved model to disk\")"
   ]
  }
 ],
 "metadata": {
  "environment": {
   "name": "tf2-2-2-gpu.2-2.m50",
   "type": "gcloud",
   "uri": "gcr.io/deeplearning-platform-release/tf2-2-2-gpu.2-2:m50"
  },
  "kernelspec": {
   "display_name": "Python 3",
   "language": "python",
   "name": "python3"
  },
  "language_info": {
   "codemirror_mode": {
    "name": "ipython",
    "version": 3
   },
   "file_extension": ".py",
   "mimetype": "text/x-python",
   "name": "python",
   "nbconvert_exporter": "python",
   "pygments_lexer": "ipython3",
   "version": "3.8.2"
  }
 },
 "nbformat": 4,
 "nbformat_minor": 4
}
