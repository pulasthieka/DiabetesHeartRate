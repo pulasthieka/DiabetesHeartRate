{
 "cells": [
  {
   "cell_type": "code",
   "execution_count": 20,
   "metadata": {},
   "outputs": [],
   "source": [
    "import tensorflow as tf\n",
    "from tensorflow.keras.models import load_model\n",
    "# load model\n",
    "model = load_model('diabetesHRV.h5')"
   ]
  },
  {
   "cell_type": "code",
   "execution_count": 21,
   "metadata": {},
   "outputs": [
    {
     "name": "stdout",
     "output_type": "stream",
     "text": [
      "Model: \"sequential\"\n",
      "_________________________________________________________________\n",
      "Layer (type)                 Output Shape              Param #   \n",
      "=================================================================\n",
      "dense (Dense)                (None, 20)                200       \n",
      "_________________________________________________________________\n",
      "dense_1 (Dense)              (None, 1)                 21        \n",
      "=================================================================\n",
      "Total params: 221\n",
      "Trainable params: 221\n",
      "Non-trainable params: 0\n",
      "_________________________________________________________________\n"
     ]
    }
   ],
   "source": [
    "model.summary()"
   ]
  },
  {
   "cell_type": "code",
   "execution_count": 22,
   "metadata": {},
   "outputs": [],
   "source": [
    "import pandas as pd\n",
    "test_dataset = pd.read_csv('swell_testing_data.csv') #load test data\n",
    "train_stats = pd.read_csv('model_stats.csv') # load train stats to normalize data\n",
    "def labelDataset(row):\n",
    "#     label the dataset 1- diabetic , 0- non-diabetic\n",
    "    if row['label'] ==\"healthy\":\n",
    "        return  1\n",
    "    else:\n",
    "        return 0\n",
    "    \n",
    "def norm(x):\n",
    "    return (x - train_stats['mean']) / train_stats['std']\n",
    "\n",
    "# transform data\n",
    "test_dataset['label'] = test_dataset.apply (lambda row: labelDataset(row), axis=1)\n",
    "test_labels = test_dataset['label']\n",
    "test_data = test_dataset.drop(['label'],axis =1)\n",
    "normed_test_data = norm(test_data)"
   ]
  },
  {
   "cell_type": "code",
   "execution_count": 23,
   "metadata": {},
   "outputs": [
    {
     "name": "stdout",
     "output_type": "stream",
     "text": [
      "accuracy: 87.69%\n"
     ]
    }
   ],
   "source": [
    "# evaluate model\n",
    "score = model.evaluate(normed_test_data, test_labels, verbose=0)\n",
    "print(\"%s: %.2f%%\" % (model.metrics_names[1], score[1]*100))"
   ]
  },
  {
   "cell_type": "code",
   "execution_count": 24,
   "metadata": {},
   "outputs": [],
   "source": [
    "import numpy as np\n",
    "predictions = model.predict(normed_test_data)\n",
    "result = np.zeros(len(predictions))\n",
    "for p in range(len(predictions)):\n",
    "    if predictions[p] > 0.5:\n",
    "        result[p]= 1\n",
    "    else:\n",
    "        result[p]=0\n",
    "result = result.transpose()\n",
    "# confusion = tf.math.confusion_matrix(labels=test_labels, predictions=test_labels, num_classes=2)"
   ]
  },
  {
   "cell_type": "code",
   "execution_count": 25,
   "metadata": {},
   "outputs": [],
   "source": [
    "confusion = tf.math.confusion_matrix(labels=test_labels, predictions=result, num_classes=2)"
   ]
  },
  {
   "cell_type": "code",
   "execution_count": 26,
   "metadata": {},
   "outputs": [
    {
     "data": {
      "text/plain": [
       "<tf.Tensor: shape=(2, 2), dtype=int32, numpy=\n",
       "array([[17204,  1671],\n",
       "       [ 3382, 18776]])>"
      ]
     },
     "execution_count": 26,
     "metadata": {},
     "output_type": "execute_result"
    }
   ],
   "source": [
    "confusion"
   ]
  }
 ],
 "metadata": {
  "kernelspec": {
   "display_name": "Python 3",
   "language": "python",
   "name": "python3"
  },
  "language_info": {
   "codemirror_mode": {
    "name": "ipython",
    "version": 3
   },
   "file_extension": ".py",
   "mimetype": "text/x-python",
   "name": "python",
   "nbconvert_exporter": "python",
   "pygments_lexer": "ipython3",
   "version": "3.8.2"
  }
 },
 "nbformat": 4,
 "nbformat_minor": 4
}
